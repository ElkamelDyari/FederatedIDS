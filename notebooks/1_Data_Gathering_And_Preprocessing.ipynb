{
 "cells": [
  {
   "cell_type": "code",
   "id": "c72788dc",
   "metadata": {
    "ExecuteTime": {
     "end_time": "2024-12-22T08:46:31.405404Z",
     "start_time": "2024-12-22T08:46:30.599478Z"
    }
   },
   "source": [
    "import os\n",
    "import pandas as pd"
   ],
   "outputs": [],
   "execution_count": 2
  },
  {
   "cell_type": "markdown",
   "id": "841b0edd",
   "metadata": {},
   "source": "## Machine Learning data"
  },
  {
   "cell_type": "code",
   "id": "4f7c68f5",
   "metadata": {
    "ExecuteTime": {
     "end_time": "2024-12-22T09:15:40.464406Z",
     "start_time": "2024-12-22T09:15:30.112852Z"
    }
   },
   "source": [
    "DIR_PATH = os.path.join('..', 'data', 'SrcData')\n",
    "\n",
    "FILE_NAMES = [\"Monday-WorkingHours.pcap_ISCX.csv\",\n",
    "              \"Tuesday-WorkingHours.pcap_ISCX.csv\",\n",
    "              \"Wednesday-workingHours.pcap_ISCX.csv\",\n",
    "              \"Thursday-WorkingHours-Morning-WebAttacks.pcap_ISCX.csv\",\n",
    "              \"Thursday-WorkingHours-Afternoon-Infilteration.pcap_ISCX.csv\",\n",
    "              \"Friday-WorkingHours-Morning.pcap_ISCX.csv\",\n",
    "              \"Friday-WorkingHours-Afternoon-PortScan.pcap_ISCX.csv\",\n",
    "              \"Friday-WorkingHours-Afternoon-DDos.pcap_ISCX.csv\"]\n",
    "\n",
    "df = [pd.read_csv(os.path.join(DIR_PATH, f), skipinitialspace=True) for f in FILE_NAMES]\n",
    "df = pd.concat(df, ignore_index=True)\n",
    "\n",
    "df.Label.value_counts()"
   ],
   "outputs": [
    {
     "data": {
      "text/plain": [
       "Label\n",
       "BENIGN                      2273097\n",
       "DoS Hulk                     231073\n",
       "PortScan                     158930\n",
       "DDoS                         128027\n",
       "DoS GoldenEye                 10293\n",
       "FTP-Patator                    7938\n",
       "SSH-Patator                    5897\n",
       "DoS slowloris                  5796\n",
       "DoS Slowhttptest               5499\n",
       "Bot                            1966\n",
       "Web Attack-Brute Force         1507\n",
       "Web Attack-XSS                  652\n",
       "Infiltration                     36\n",
       "Web Attack-Sql Injection         21\n",
       "Heartbleed                       11\n",
       "Name: count, dtype: int64"
      ]
     },
     "execution_count": 23,
     "metadata": {},
     "output_type": "execute_result"
    }
   ],
   "execution_count": 23
  },
  {
   "cell_type": "code",
   "id": "d40e84b9",
   "metadata": {
    "ExecuteTime": {
     "end_time": "2024-12-22T09:16:32.671329Z",
     "start_time": "2024-12-22T09:15:40.495916Z"
    }
   },
   "source": [
    "SAVE_DIR_PATH = os.path.join('..', 'data', 'raw')\n",
    "df.to_csv(os.path.join(SAVE_DIR_PATH, \"MachineLearningCVE.csv\"), index=False)"
   ],
   "outputs": [],
   "execution_count": 24
  },
  {
   "cell_type": "code",
   "id": "6b3feda5",
   "metadata": {
    "ExecuteTime": {
     "end_time": "2024-12-22T09:16:43.518071Z",
     "start_time": "2024-12-22T09:16:32.699195Z"
    }
   },
   "source": "ML_data = pd.read_csv(os.path.join(SAVE_DIR_PATH, \"MachineLearningCVE.csv\"))",
   "outputs": [],
   "execution_count": 25
  },
  {
   "cell_type": "code",
   "id": "78f30393",
   "metadata": {
    "ExecuteTime": {
     "end_time": "2024-12-22T09:16:43.539650Z",
     "start_time": "2024-12-22T09:16:43.526079Z"
    }
   },
   "source": "ML_data.head()",
   "outputs": [
    {
     "data": {
      "text/plain": [
       "   Destination Port  Flow Duration  Total Fwd Packets  Total Backward Packets  \\\n",
       "0             49188              4                  2                       0   \n",
       "1             49188              1                  2                       0   \n",
       "2             49188              1                  2                       0   \n",
       "3             49188              1                  2                       0   \n",
       "4             49486              3                  2                       0   \n",
       "\n",
       "   Total Length of Fwd Packets  Total Length of Bwd Packets  \\\n",
       "0                           12                            0   \n",
       "1                           12                            0   \n",
       "2                           12                            0   \n",
       "3                           12                            0   \n",
       "4                           12                            0   \n",
       "\n",
       "   Fwd Packet Length Max  Fwd Packet Length Min  Fwd Packet Length Mean  \\\n",
       "0                      6                      6                     6.0   \n",
       "1                      6                      6                     6.0   \n",
       "2                      6                      6                     6.0   \n",
       "3                      6                      6                     6.0   \n",
       "4                      6                      6                     6.0   \n",
       "\n",
       "   Fwd Packet Length Std  ...  min_seg_size_forward  Active Mean  Active Std  \\\n",
       "0                    0.0  ...                    20          0.0         0.0   \n",
       "1                    0.0  ...                    20          0.0         0.0   \n",
       "2                    0.0  ...                    20          0.0         0.0   \n",
       "3                    0.0  ...                    20          0.0         0.0   \n",
       "4                    0.0  ...                    20          0.0         0.0   \n",
       "\n",
       "   Active Max  Active Min  Idle Mean  Idle Std  Idle Max  Idle Min   Label  \n",
       "0           0           0        0.0       0.0         0         0  BENIGN  \n",
       "1           0           0        0.0       0.0         0         0  BENIGN  \n",
       "2           0           0        0.0       0.0         0         0  BENIGN  \n",
       "3           0           0        0.0       0.0         0         0  BENIGN  \n",
       "4           0           0        0.0       0.0         0         0  BENIGN  \n",
       "\n",
       "[5 rows x 79 columns]"
      ],
      "text/html": [
       "<div>\n",
       "<style scoped>\n",
       "    .dataframe tbody tr th:only-of-type {\n",
       "        vertical-align: middle;\n",
       "    }\n",
       "\n",
       "    .dataframe tbody tr th {\n",
       "        vertical-align: top;\n",
       "    }\n",
       "\n",
       "    .dataframe thead th {\n",
       "        text-align: right;\n",
       "    }\n",
       "</style>\n",
       "<table border=\"1\" class=\"dataframe\">\n",
       "  <thead>\n",
       "    <tr style=\"text-align: right;\">\n",
       "      <th></th>\n",
       "      <th>Destination Port</th>\n",
       "      <th>Flow Duration</th>\n",
       "      <th>Total Fwd Packets</th>\n",
       "      <th>Total Backward Packets</th>\n",
       "      <th>Total Length of Fwd Packets</th>\n",
       "      <th>Total Length of Bwd Packets</th>\n",
       "      <th>Fwd Packet Length Max</th>\n",
       "      <th>Fwd Packet Length Min</th>\n",
       "      <th>Fwd Packet Length Mean</th>\n",
       "      <th>Fwd Packet Length Std</th>\n",
       "      <th>...</th>\n",
       "      <th>min_seg_size_forward</th>\n",
       "      <th>Active Mean</th>\n",
       "      <th>Active Std</th>\n",
       "      <th>Active Max</th>\n",
       "      <th>Active Min</th>\n",
       "      <th>Idle Mean</th>\n",
       "      <th>Idle Std</th>\n",
       "      <th>Idle Max</th>\n",
       "      <th>Idle Min</th>\n",
       "      <th>Label</th>\n",
       "    </tr>\n",
       "  </thead>\n",
       "  <tbody>\n",
       "    <tr>\n",
       "      <th>0</th>\n",
       "      <td>49188</td>\n",
       "      <td>4</td>\n",
       "      <td>2</td>\n",
       "      <td>0</td>\n",
       "      <td>12</td>\n",
       "      <td>0</td>\n",
       "      <td>6</td>\n",
       "      <td>6</td>\n",
       "      <td>6.0</td>\n",
       "      <td>0.0</td>\n",
       "      <td>...</td>\n",
       "      <td>20</td>\n",
       "      <td>0.0</td>\n",
       "      <td>0.0</td>\n",
       "      <td>0</td>\n",
       "      <td>0</td>\n",
       "      <td>0.0</td>\n",
       "      <td>0.0</td>\n",
       "      <td>0</td>\n",
       "      <td>0</td>\n",
       "      <td>BENIGN</td>\n",
       "    </tr>\n",
       "    <tr>\n",
       "      <th>1</th>\n",
       "      <td>49188</td>\n",
       "      <td>1</td>\n",
       "      <td>2</td>\n",
       "      <td>0</td>\n",
       "      <td>12</td>\n",
       "      <td>0</td>\n",
       "      <td>6</td>\n",
       "      <td>6</td>\n",
       "      <td>6.0</td>\n",
       "      <td>0.0</td>\n",
       "      <td>...</td>\n",
       "      <td>20</td>\n",
       "      <td>0.0</td>\n",
       "      <td>0.0</td>\n",
       "      <td>0</td>\n",
       "      <td>0</td>\n",
       "      <td>0.0</td>\n",
       "      <td>0.0</td>\n",
       "      <td>0</td>\n",
       "      <td>0</td>\n",
       "      <td>BENIGN</td>\n",
       "    </tr>\n",
       "    <tr>\n",
       "      <th>2</th>\n",
       "      <td>49188</td>\n",
       "      <td>1</td>\n",
       "      <td>2</td>\n",
       "      <td>0</td>\n",
       "      <td>12</td>\n",
       "      <td>0</td>\n",
       "      <td>6</td>\n",
       "      <td>6</td>\n",
       "      <td>6.0</td>\n",
       "      <td>0.0</td>\n",
       "      <td>...</td>\n",
       "      <td>20</td>\n",
       "      <td>0.0</td>\n",
       "      <td>0.0</td>\n",
       "      <td>0</td>\n",
       "      <td>0</td>\n",
       "      <td>0.0</td>\n",
       "      <td>0.0</td>\n",
       "      <td>0</td>\n",
       "      <td>0</td>\n",
       "      <td>BENIGN</td>\n",
       "    </tr>\n",
       "    <tr>\n",
       "      <th>3</th>\n",
       "      <td>49188</td>\n",
       "      <td>1</td>\n",
       "      <td>2</td>\n",
       "      <td>0</td>\n",
       "      <td>12</td>\n",
       "      <td>0</td>\n",
       "      <td>6</td>\n",
       "      <td>6</td>\n",
       "      <td>6.0</td>\n",
       "      <td>0.0</td>\n",
       "      <td>...</td>\n",
       "      <td>20</td>\n",
       "      <td>0.0</td>\n",
       "      <td>0.0</td>\n",
       "      <td>0</td>\n",
       "      <td>0</td>\n",
       "      <td>0.0</td>\n",
       "      <td>0.0</td>\n",
       "      <td>0</td>\n",
       "      <td>0</td>\n",
       "      <td>BENIGN</td>\n",
       "    </tr>\n",
       "    <tr>\n",
       "      <th>4</th>\n",
       "      <td>49486</td>\n",
       "      <td>3</td>\n",
       "      <td>2</td>\n",
       "      <td>0</td>\n",
       "      <td>12</td>\n",
       "      <td>0</td>\n",
       "      <td>6</td>\n",
       "      <td>6</td>\n",
       "      <td>6.0</td>\n",
       "      <td>0.0</td>\n",
       "      <td>...</td>\n",
       "      <td>20</td>\n",
       "      <td>0.0</td>\n",
       "      <td>0.0</td>\n",
       "      <td>0</td>\n",
       "      <td>0</td>\n",
       "      <td>0.0</td>\n",
       "      <td>0.0</td>\n",
       "      <td>0</td>\n",
       "      <td>0</td>\n",
       "      <td>BENIGN</td>\n",
       "    </tr>\n",
       "  </tbody>\n",
       "</table>\n",
       "<p>5 rows × 79 columns</p>\n",
       "</div>"
      ]
     },
     "execution_count": 26,
     "metadata": {},
     "output_type": "execute_result"
    }
   ],
   "execution_count": 26
  },
  {
   "metadata": {
    "ExecuteTime": {
     "end_time": "2024-12-22T09:16:43.725353Z",
     "start_time": "2024-12-22T09:16:43.586977Z"
    }
   },
   "cell_type": "code",
   "source": "ML_data.Label.value_counts()",
   "id": "8c6c722c7c5eafd6",
   "outputs": [
    {
     "data": {
      "text/plain": [
       "Label\n",
       "BENIGN                      2273097\n",
       "DoS Hulk                     231073\n",
       "PortScan                     158930\n",
       "DDoS                         128027\n",
       "DoS GoldenEye                 10293\n",
       "FTP-Patator                    7938\n",
       "SSH-Patator                    5897\n",
       "DoS slowloris                  5796\n",
       "DoS Slowhttptest               5499\n",
       "Bot                            1966\n",
       "Web Attack-Brute Force         1507\n",
       "Web Attack-XSS                  652\n",
       "Infiltration                     36\n",
       "Web Attack-Sql Injection         21\n",
       "Heartbleed                       11\n",
       "Name: count, dtype: int64"
      ]
     },
     "execution_count": 27,
     "metadata": {},
     "output_type": "execute_result"
    }
   ],
   "execution_count": 27
  },
  {
   "metadata": {},
   "cell_type": "code",
   "outputs": [],
   "execution_count": null,
   "source": "",
   "id": "79907c78d799ef29"
  }
 ],
 "metadata": {
  "kernelspec": {
   "display_name": "Python 3 (ipykernel)",
   "language": "python",
   "name": "python3"
  },
  "language_info": {
   "codemirror_mode": {
    "name": "ipython",
    "version": 3
   },
   "file_extension": ".py",
   "mimetype": "text/x-python",
   "name": "python",
   "nbconvert_exporter": "python",
   "pygments_lexer": "ipython3",
   "version": "3.12.3"
  }
 },
 "nbformat": 4,
 "nbformat_minor": 5
}
